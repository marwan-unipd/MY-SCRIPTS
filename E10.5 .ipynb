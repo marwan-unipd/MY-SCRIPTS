{
 "cells": [
  {
   "cell_type": "code",
   "execution_count": 3,
   "id": "f4580636",
   "metadata": {},
   "outputs": [],
   "source": [
    "import numpy as np\n",
    "import pandas as pd\n",
    "import anndata\n",
    "import scanpy as sc\n",
    "import matplotlib \n",
    "import seaborn as sns"
   ]
  },
  {
   "cell_type": "code",
   "execution_count": null,
   "id": "670fdf4e",
   "metadata": {},
   "outputs": [],
   "source": [
    "sc.settings.verbosity = 1             # verbosity: errors (0), warnings (1), info (2), hints (3)\n",
    "sc.logging.print_header()\n",
    "sc.settings.set_figure_params(dpi=80, facecolor='white')"
   ]
  },
  {
   "cell_type": "code",
   "execution_count": null,
   "id": "7e867c20",
   "metadata": {},
   "outputs": [],
   "source": [
    "results_file = '../results_newdataset'  # the file that will store the analysis results"
   ]
  },
  {
   "cell_type": "code",
   "execution_count": null,
   "id": "8f0e775d",
   "metadata": {},
   "outputs": [],
   "source": [
    "adata1 = sc.read_10x_mtx(\n",
    "    './Downloads/new Dataset/M1RE105/M1RE105/embryo1/filtered_feature_bc_matrix/',  # the directory with the `.mtx` file\n",
    "    var_names='gene_symbols',                # use gene symbols for the variable names (variables-axis index)\n",
    "    cache=True)                              # write a cache file for faster subsequent reading"
   ]
  },
  {
   "cell_type": "code",
   "execution_count": null,
   "id": "7beb82c2",
   "metadata": {
    "scrolled": true
   },
   "outputs": [],
   "source": [
    "adata1"
   ]
  },
  {
   "cell_type": "code",
   "execution_count": null,
   "id": "bf9e7d11",
   "metadata": {},
   "outputs": [],
   "source": [
    "Embryo2 = sc.read_10x_mtx(\n",
    "    './Downloads/new Dataset/M1RE105/M1RE105/embryo2/filtered_feature_bc_matrix/',  # the directory with the `.mtx` file\n",
    "    var_names='gene_symbols',                # use gene symbols for the variable names (variables-axis index)\n",
    "    cache=True)               "
   ]
  },
  {
   "cell_type": "code",
   "execution_count": null,
   "id": "786e9b05",
   "metadata": {},
   "outputs": [],
   "source": [
    "Embryo2"
   ]
  },
  {
   "cell_type": "markdown",
   "id": "b7aab1df",
   "metadata": {},
   "source": [
    "# embryo1 "
   ]
  },
  {
   "cell_type": "code",
   "execution_count": null,
   "id": "36844ff1",
   "metadata": {},
   "outputs": [],
   "source": [
    "adata1.var_names_make_unique()\n",
    "\n"
   ]
  },
  {
   "cell_type": "code",
   "execution_count": null,
   "id": "1f863f49",
   "metadata": {},
   "outputs": [],
   "source": [
    "adata2.var_names_make_unique()\n",
    "sc.pl.highest_expr_genes(adata1, n_top=20, )"
   ]
  },
  {
   "cell_type": "code",
   "execution_count": null,
   "id": "745eaa5c",
   "metadata": {},
   "outputs": [],
   "source": [
    "\n",
    "def highest_expr_genes(\n",
    "    adata,\n",
    "    n_top = 25,\n",
    "    show = None,\n",
    "    save = None,\n",
    "    ax = None,\n",
    "    gene_symbols = None,\n",
    "    log = False,\n",
    "    **kwds,\n",
    "):\n",
    "    \"\"\"\\\n",
    "    Fraction of counts assigned to each gene over all cells.\n",
    "\n",
    "    Computes, for each gene, the fraction of counts assigned to that gene within\n",
    "    a cell. The `n_top` genes with the highest mean fraction over all cells are\n",
    "    plotted as boxplots.\n",
    "\n",
    "    This plot is similar to the `scater` package function `plotHighestExprs(type\n",
    "    = \"highest-expression\")`, see `here\n",
    "    <https://bioconductor.org/packages/devel/bioc/vignettes/scater/inst/doc/vignette-qc.html>`__. Quoting\n",
    "    from there:\n",
    "\n",
    "        *We expect to see the “usual suspects”, i.e., mitochondrial genes, actin,\n",
    "        ribosomal protein, MALAT1. A few spike-in transcripts may also be\n",
    "        present here, though if all of the spike-ins are in the top 50, it\n",
    "        suggests that too much spike-in RNA was added. A large number of\n",
    "        pseudo-genes or predicted genes may indicate problems with alignment.*\n",
    "        -- Davis McCarthy and Aaron Lun\n",
    "\n",
    "    Parameters\n",
    "    ----------\n",
    "    adata\n",
    "        Annotated data matrix.\n",
    "    n_top\n",
    "        Number of top\n",
    "    {show_save_ax}\n",
    "    gene_symbols\n",
    "        Key for field in .var that stores gene symbols if you do not want to use .var_names.\n",
    "    log\n",
    "        Plot x-axis in log scale\n",
    "    **kwds\n",
    "        Are passed to :func:`~seaborn.boxplot`.\n",
    "\n",
    "    Returns\n",
    "    -------\n",
    "    If `show==False` a :class:`~matplotlib.axes.Axes`.\n",
    "    \"\"\"\n",
    "    import seaborn as sns  # Slow import, only import if called\n",
    "    from scipy.sparse import issparse\n",
    "\n",
    "    # compute the percentage of each gene per cell\n",
    "    norm_dict = sc.pp.normalize_total(adata, target_sum=100, inplace=False)\n",
    "\n",
    "    # identify the genes with the highest mean\n",
    "    if issparse(norm_dict['X']):\n",
    "        mean_percent = norm_dict['X'].mean(axis=0).A1\n",
    "        top_idx = np.argsort(mean_percent)[::-1][:n_top]\n",
    "        counts_top_genes = norm_dict['X'][:, top_idx].A\n",
    "    else:\n",
    "        mean_percent = norm_dict['X'].mean(axis=0)\n",
    "        top_idx = np.argsort(mean_percent)[::-1][:n_top]\n",
    "        counts_top_genes = norm_dict['X'][:, top_idx]\n",
    "    columns = (\n",
    "        adata.var_names[top_idx]\n",
    "        if gene_symbols is None\n",
    "        else adata.var[gene_symbols][top_idx]\n",
    "    )\n",
    "    counts_top_genes = pd.DataFrame(columns\n",
    "    )\n",
    "\n",
    "    return counts_top_genes\n",
    "highest_expr_genes(adata1).transpose()"
   ]
  },
  {
   "cell_type": "markdown",
   "id": "449f00b5",
   "metadata": {},
   "source": [
    "#  1-QC"
   ]
  },
  {
   "cell_type": "code",
   "execution_count": null,
   "id": "b43ae138",
   "metadata": {},
   "outputs": [],
   "source": [
    "\n",
    "sc.pp.filter_cells(adata1, min_genes=300)\n",
    "sc.pp.filter_genes(adata1, min_cells=3)\n",
    "adata1.var['mt'] = adata1.var_names.str.startswith('mt-')  # annotate the group of mitochondrial genes as 'mt'\n",
    "sc.pp.calculate_qc_metrics(adata1, qc_vars=['mt'], percent_top=None, log1p=False, inplace=True)"
   ]
  },
  {
   "cell_type": "markdown",
   "id": "4b3d84fe",
   "metadata": {},
   "source": [
    "#  2- Plots"
   ]
  },
  {
   "cell_type": "code",
   "execution_count": null,
   "id": "1862a243",
   "metadata": {},
   "outputs": [],
   "source": [
    "sc.pl.violin(adata1, ['n_genes_by_counts', 'total_counts', 'pct_counts_mt'],\n",
    "             jitter=0.2, multi_panel=True)"
   ]
  },
  {
   "cell_type": "code",
   "execution_count": null,
   "id": "dd45146d",
   "metadata": {},
   "outputs": [],
   "source": [
    "sc.pl.scatter(adata1,  \"total_counts\",\"n_genes_by_counts\",color=\"pct_counts_mt\" )"
   ]
  },
  {
   "cell_type": "code",
   "execution_count": null,
   "id": "9e4e60fc",
   "metadata": {},
   "outputs": [],
   "source": [
    "p1 = sns.displot(adata1.obs[\"n_genes_by_counts\"], bins=800, kde=False)\n",
    "\n",
    "## maybe all those are doublets but if yes the total count should be doubled but its standared distrupited "
   ]
  },
  {
   "cell_type": "markdown",
   "id": "32fd90c5",
   "metadata": {},
   "source": [
    "# 3-Filtering"
   ]
  },
  {
   "cell_type": "code",
   "execution_count": null,
   "id": "a0f1ac01",
   "metadata": {},
   "outputs": [],
   "source": [
    "adata1 = adata1[adata1.obs.pct_counts_mt < 25, :]\n",
    "adata1 = adata1[adata1.obs.n_genes_by_counts < 6500, :]\n",
    "adata1 = adata1[adata1.obs.n_genes_by_counts > 1000, :]"
   ]
  },
  {
   "cell_type": "markdown",
   "id": "67cbede2",
   "metadata": {},
   "source": [
    "# 4- Normalization E1"
   ]
  },
  {
   "cell_type": "code",
   "execution_count": null,
   "id": "8a71677a",
   "metadata": {},
   "outputs": [],
   "source": [
    "sc.pp.normalize_total(adata1, target_sum=1e4)"
   ]
  },
  {
   "cell_type": "code",
   "execution_count": null,
   "id": "31fae0bf",
   "metadata": {},
   "outputs": [],
   "source": [
    "sc.pp.log1p(adata1)"
   ]
  },
  {
   "cell_type": "code",
   "execution_count": null,
   "id": "62deb2ec",
   "metadata": {},
   "outputs": [],
   "source": [
    "sc.pp.highly_variable_genes(adata1, min_mean=0.0125, max_mean=3, min_disp=0.5)"
   ]
  },
  {
   "cell_type": "code",
   "execution_count": null,
   "id": "e921ad4a",
   "metadata": {},
   "outputs": [],
   "source": [
    "#justa  view \n",
    "adata1.var.highly_variable[adata1.var.dispersions_norm > 2 ] "
   ]
  },
  {
   "cell_type": "code",
   "execution_count": null,
   "id": "42a93e10",
   "metadata": {},
   "outputs": [],
   "source": [
    "sc.pl.highly_variable_genes(adata1)"
   ]
  },
  {
   "cell_type": "code",
   "execution_count": null,
   "id": "cb963bd9",
   "metadata": {},
   "outputs": [],
   "source": [
    "## save raw data before  processing values and further filtering\n",
    "adata1.raw = adata1\n",
    "adata1 = adat1a[:, adata1.var.highly_variable]"
   ]
  },
  {
   "cell_type": "code",
   "execution_count": null,
   "id": "2400829e",
   "metadata": {},
   "outputs": [],
   "source": [
    "sc.pp.regress_out(adata1, ['total_counts', 'pct_counts_mt'])\n",
    "sc.pp.scale(adata1, max_value=10)"
   ]
  },
  {
   "cell_type": "markdown",
   "id": "08f35fb7",
   "metadata": {},
   "source": [
    "plotting the linear regression  to understand  what does regress out do"
   ]
  },
  {
   "cell_type": "code",
   "execution_count": null,
   "id": "5c98e747",
   "metadata": {},
   "outputs": [],
   "source": [
    "import scanpy as sc\n",
    "import matplotlib.pyplot as plt\n",
    "import statsmodels.api as sm\n",
    "# Extract the total_counts and pct_counts_mt variables from adata\n",
    "x = adata1.obs['total_counts'].values\n",
    "y = adata1.obs['pct_counts_mt'].values\n",
    "\n",
    "# Perform OLS linear regression\n",
    "X = sm.add_constant(x)\n",
    "model = sm.OLS(y, X).fit()\n",
    "\n",
    "# Get the predicted values from the model\n",
    "y_pred = model.predict(X)\n",
    "\n",
    "# Plot the data and the regression line\n",
    "plt.scatter(x, y)\n",
    "plt.plot(x, y_pred, color='red')"
   ]
  },
  {
   "cell_type": "markdown",
   "id": "a53f1dc7",
   "metadata": {},
   "source": [
    "Principal component analysis"
   ]
  },
  {
   "cell_type": "code",
   "execution_count": null,
   "id": "6a3e2ff3",
   "metadata": {},
   "outputs": [],
   "source": [
    "sc.tl.pca(adata1, svd_solver='arpack')\n",
    "sc.pl.pca_loadings(adata1)\n",
    "sc.pl.pca_variance_ratio(adata1, log=True)"
   ]
  },
  {
   "cell_type": "markdown",
   "id": "8a153aac",
   "metadata": {},
   "source": [
    "#  6- Computing the neighborhood graph &  Embedding the neighborhood graph  & genes plotting"
   ]
  },
  {
   "cell_type": "code",
   "execution_count": null,
   "id": "b01b4819",
   "metadata": {},
   "outputs": [],
   "source": [
    "sc.pp.neighbors(adata1, n_neighbors=20, n_pcs=30)\n"
   ]
  },
  {
   "cell_type": "code",
   "execution_count": null,
   "id": "34c87fdc",
   "metadata": {},
   "outputs": [],
   "source": [
    "sc.tl.umap(adata1)"
   ]
  },
  {
   "cell_type": "code",
   "execution_count": null,
   "id": "f4a4e2c5",
   "metadata": {},
   "outputs": [],
   "source": [
    "sc.pl.umap(adata)"
   ]
  },
  {
   "cell_type": "markdown",
   "id": "a9ce4eaf",
   "metadata": {},
   "source": [
    "sc.tl.paga is a function from the scanpy library that is used to compute a pseudo-temporal ordering of cells using the pseudotime approximation by graph abstraction (PAGA) algorithm. The adata argument is an AnnData object that contains the data for which you want to compute the pseudo-temporal ordering."
   ]
  },
  {
   "cell_type": "markdown",
   "id": "ceaaecfb",
   "metadata": {},
   "source": [
    "The sc.tl.leiden() function is an alternative to the sc.tl.paga() function for clustering single-cell RNA-sequencing (scRNA-seq) data. It uses the \"Leiden\" algorithm to identify clusters of cells based on their gene expression patterns.\n",
    "\n",
    "One key difference between PAGA and Leiden is that PAGA produces a graph-based representation of the data, while Leiden produces a partition of the data into discrete clusters. PAGA is better suited for identifying complex relationships between cells, while Leiden is more suitable for identifying distinct clusters of cells.\n",
    "\n",
    "Another difference between PAGA and Leiden is the way in which they handle noise and dropouts in the data. PAGA is more robust to noise and missing values, as it estimates the probability that two cells are part of the same branch rather than making a hard assignment. Leiden is more sensitive to noise and missing values and may produce less accurate results in the presence of these issues.\n",
    "\n",
    "I hope this information is helpful! Let me know if you have any additional questions.\n",
    "\n",
    "\n",
    "\n"
   ]
  },
  {
   "cell_type": "code",
   "execution_count": null,
   "id": "649e55d0",
   "metadata": {},
   "outputs": [],
   "source": [
    "sc.tl.paga(adata1)\n",
    "sc.pl.paga(adata1, plot=False)  # remove `plot=False` if you want to see the coarse-grained graph\n",
    "sc.tl.umap(adata1, init_pos='paga')"
   ]
  },
  {
   "cell_type": "code",
   "execution_count": null,
   "id": "d854a379",
   "metadata": {},
   "outputs": [],
   "source": [
    "sc.tl.umap(adata1)"
   ]
  },
  {
   "cell_type": "markdown",
   "id": "2cb17ac8",
   "metadata": {},
   "source": [
    "Umap  genes plot "
   ]
  },
  {
   "cell_type": "code",
   "execution_count": null,
   "id": "7d3c522a",
   "metadata": {},
   "outputs": [],
   "source": [
    "sc.pl.umap(adata, color=['CST3', 'NKG7', 'PPBP'])"
   ]
  },
  {
   "cell_type": "markdown",
   "id": "f11c750c",
   "metadata": {},
   "source": [
    "# 7 -Clustering the neighborhood graph"
   ]
  },
  {
   "cell_type": "code",
   "execution_count": null,
   "id": "9f90659f",
   "metadata": {},
   "outputs": [],
   "source": [
    "sc.tl.leiden(adata1)"
   ]
  },
  {
   "cell_type": "code",
   "execution_count": null,
   "id": "72936d1a",
   "metadata": {},
   "outputs": [],
   "source": [
    "sc.pl.umap(adata1, color=['leiden', 'Pax3', 'NKG7'])"
   ]
  },
  {
   "cell_type": "markdown",
   "id": "9097c64a",
   "metadata": {},
   "source": [
    "save"
   ]
  },
  {
   "cell_type": "code",
   "execution_count": null,
   "id": "228e7e1e",
   "metadata": {},
   "outputs": [],
   "source": [
    "adata.write(results_file)"
   ]
  },
  {
   "cell_type": "code",
   "execution_count": null,
   "id": "f63f198b",
   "metadata": {
    "scrolled": false
   },
   "outputs": [],
   "source": [
    "# Plotting all top 3 genes  agains clusters\n",
    "for i in range(17):\n",
    "    sc.pl.umap(adata1, color=['leiden', genelst[i][0], genelst[i][1],genelst[i][2]])\n",
    "    print(f\"this is top 2 genes for cluster {i}\")"
   ]
  },
  {
   "cell_type": "markdown",
   "id": "516aca8e",
   "metadata": {},
   "source": [
    "# 3d script"
   ]
  },
  {
   "cell_type": "code",
   "execution_count": null,
   "id": "69cd2772",
   "metadata": {},
   "outputs": [],
   "source": [
    "sc.tl.umap(adata,n_components=3)\n",
    "colors=plt.cm.tab20(range(0,7))\n",
    "color_dict = {}\n",
    "\n",
    "for i ,color in enumerate(colors):\n",
    "    color_dict[i] = color\n",
    "color_dict\n",
    "\n",
    "umap=adata.obsm[\"X_umap\"]\n",
    "umap\n",
    "fig=plt.figure(figsize=(10,10))\n",
    "ax=fig.add_subplot(projection='3d')\n",
    "ax.scatter(umap[:,0],umap[:,1],umap[:,2], c=adata.obs.leiden.astype(\"int\").map(color_dict))\n",
    "for i in range (0,360,2):\n",
    "    fig=plt.figure(figsize=(10,10))\n",
    "    ax=fig.add_subplot(projection='3d')\n",
    "    ax.scatter(umap[:,0],umap[:,1],umap[:,2], c=adata.obs.leiden.astype(\"int\").map(color_dict))\n",
    "    x_center= (umap[:,0].max()+umap[:,0].min())/2\n",
    "    y_center= (umap[:,1].max()+umap[:,1].min())/2\n",
    "    z_center= (umap[:,2].max()+umap[:,2].min())/2\n",
    "    ax.plot([x_center,x_center],[y_center,y_center],[umap[:,2].min() -2, umap[:,2].max() +2], c=\"k\",lw =5)\n",
    "    ax.plot([x_center,x_center],[umap[:,1].min() -2, umap[:,1].max() +2],[z_center,z_center], c=\"k\",lw =5)\n",
    "    ax.plot([umap[:,0].min() -2, umap[:,0].max() +2],[y_center,y_center],[z_center,z_center], c=\"k\",lw =5)\n",
    "    ax.view_init(20,i)\n",
    "    ax.axis(\"off\")\n",
    "    \n",
    "    plt.savefig(f\"{i}.png\" ,dpi=100 ,facecolor=\"white\")\n",
    "    plt.show()\n",
    "from PIL import Image\n",
    "\n",
    "# Create the filenames for the images\n",
    "filenames = [f'{i}.png'.format(i) for i in range(0,360,2)]\n",
    "\n",
    "# Load the images into a list\n",
    "images = []\n",
    "for filename in filenames:\n",
    "    images.append(Image.open(filename))\n",
    "\n",
    "# Create a new image object to hold the animation\n",
    "animation = Image.new(mode=images[0].mode, size=images[0].size)\n",
    "\n",
    "# Save the animation as an animated GIF\n",
    "animation.save('3d UMAP.gif', save_all=True, append_images=images, duration=100, loop=0)"
   ]
  },
  {
   "cell_type": "markdown",
   "id": "d8636832",
   "metadata": {},
   "source": [
    "##  8 - Finding marker genes"
   ]
  },
  {
   "cell_type": "code",
   "execution_count": null,
   "id": "58e8a697",
   "metadata": {},
   "outputs": [],
   "source": [
    "sc.tl.rank_genes_groups(adata1, 'leiden', method='t-test')\n",
    "sc.pl.rank_genes_groups(adata1, n_genes=20, sharey=False)\n"
   ]
  },
  {
   "cell_type": "code",
   "execution_count": null,
   "id": "881becad",
   "metadata": {},
   "outputs": [],
   "source": [
    "adata1.uns[\"rank_genes_groups\"][\"names\"]\n",
    "genelst=[]\n",
    "for line in range(20):\n",
    "    genelst.append(adata1.uns[\"rank_genes_groups\"][\"names\"][line])\n",
    "    \n",
    "genelst[0:5]"
   ]
  },
  {
   "cell_type": "code",
   "execution_count": 1,
   "id": "2a703200",
   "metadata": {},
   "outputs": [],
   "source": [
    "# automatic annotations  file"
   ]
  },
  {
   "cell_type": "markdown",
   "id": "d1224c73",
   "metadata": {},
   "source": [
    "#                                           Embryo 2 QC "
   ]
  },
  {
   "cell_type": "code",
   "execution_count": null,
   "id": "d176cd13",
   "metadata": {},
   "outputs": [],
   "source": [
    "Embryo2.var_names_make_unique()\n",
    "sc.pl.highest_expr_genes(Embryo2, n_top=20, )"
   ]
  },
  {
   "cell_type": "code",
   "execution_count": null,
   "id": "63923ac5",
   "metadata": {},
   "outputs": [],
   "source": [
    "sc.pp.filter_cells(Embryo2, min_genes=300)\n",
    "sc.pp.filter_genes(Embryo2, min_cells=3)\n",
    "#\n",
    "Embryo2.var['mt'] = Embryo2.var_names.str.startswith('mt-')  # annotate the group of mitochondrial genes as 'mt'\n",
    "sc.pp.calculate_qc_metrics(Embryo2, qc_vars=['mt'], percent_top=None, log1p=False, inplace=True)"
   ]
  },
  {
   "cell_type": "markdown",
   "id": "7e24a8e4",
   "metadata": {},
   "source": [
    "# plots"
   ]
  },
  {
   "cell_type": "code",
   "execution_count": null,
   "id": "44a36277",
   "metadata": {},
   "outputs": [],
   "source": [
    "sc.pl.violin(Embryo2, ['n_genes_by_counts', 'total_counts', 'pct_counts_mt'],\n",
    "             jitter=0.1, multi_panel=True)"
   ]
  },
  {
   "cell_type": "code",
   "execution_count": null,
   "id": "c44276cc",
   "metadata": {},
   "outputs": [],
   "source": [
    "sc.pl.scatter(Embryo2,  \"total_counts\",\"n_genes_by_counts\",color=\"pct_counts_mt\" )"
   ]
  },
  {
   "cell_type": "code",
   "execution_count": null,
   "id": "6abccf17",
   "metadata": {},
   "outputs": [],
   "source": [
    "sns.displot(Embryo2.obs[\"n_genes_by_counts\"], bins=800, kde=False)"
   ]
  },
  {
   "cell_type": "code",
   "execution_count": null,
   "id": "2ad65845",
   "metadata": {},
   "outputs": [],
   "source": [
    "Embryo2.obs"
   ]
  },
  {
   "cell_type": "markdown",
   "id": "f0ad097b",
   "metadata": {},
   "source": [
    "first dataset"
   ]
  },
  {
   "cell_type": "markdown",
   "id": "4d2e27b2",
   "metadata": {},
   "source": [
    "\n",
    "# Filtering"
   ]
  },
  {
   "cell_type": "code",
   "execution_count": null,
   "id": "ec9f34e7",
   "metadata": {},
   "outputs": [],
   "source": [
    "Embryo2 = Embryo2[Embryo2.obs.total_counts < 60000, :]"
   ]
  },
  {
   "cell_type": "code",
   "execution_count": null,
   "id": "93a23858",
   "metadata": {},
   "outputs": [],
   "source": [
    "Embryo2 = Embryo2[Embryo2.obs.pct_counts_mt < 30, :]"
   ]
  },
  {
   "cell_type": "markdown",
   "id": "4437d443",
   "metadata": {},
   "source": [
    "# 5-Normalize"
   ]
  },
  {
   "cell_type": "code",
   "execution_count": null,
   "id": "04ad494f",
   "metadata": {},
   "outputs": [],
   "source": [
    "sc.pp.normalize_total(Embryo2, target_sum=1e4)"
   ]
  },
  {
   "cell_type": "code",
   "execution_count": null,
   "id": "ef393c3f",
   "metadata": {},
   "outputs": [],
   "source": [
    "sc.pp.log1p(Embryo2)"
   ]
  },
  {
   "cell_type": "code",
   "execution_count": null,
   "id": "1d9afdad",
   "metadata": {},
   "outputs": [],
   "source": [
    "sc.pp.highly_variable_genes(Embryo2, min_mean=0.0125, max_mean=3, min_disp=0.5)"
   ]
  },
  {
   "cell_type": "code",
   "execution_count": null,
   "id": "40099d53",
   "metadata": {},
   "outputs": [],
   "source": [
    "sc.pl.highly_variable_genes(Embryo2)"
   ]
  },
  {
   "cell_type": "code",
   "execution_count": null,
   "id": "77bc980c",
   "metadata": {},
   "outputs": [],
   "source": [
    "##no idea why the first step step\n",
    "Embryo2.raw = Embryo2\n",
    "Embryo2 = Embryo2[:, adata1.var.highly_variable]"
   ]
  },
  {
   "cell_type": "code",
   "execution_count": null,
   "id": "3a33f35a",
   "metadata": {},
   "outputs": [],
   "source": [
    "sc.pp.regress_out(Embryo2, ['total_counts', 'pct_counts_mt'])\n",
    "sc.pp.scale(Embryo2, max_value=10)"
   ]
  },
  {
   "cell_type": "markdown",
   "id": "bf634f9c",
   "metadata": {},
   "source": [
    "PCA"
   ]
  },
  {
   "cell_type": "code",
   "execution_count": null,
   "id": "a6d2115d",
   "metadata": {},
   "outputs": [],
   "source": [
    "sc.tl.pca(Embryo2, svd_solver='arpack')\n",
    "sc.pl.pca_loadings(Embryo2)\n",
    "sc.pl.pca_variance_ratio(Embryo2, log=True)"
   ]
  },
  {
   "cell_type": "markdown",
   "id": "a043c3f0",
   "metadata": {},
   "source": [
    "#  6- Computing the neighborhood graph &  Embedding the neighborhood graph  & genes plotting"
   ]
  },
  {
   "cell_type": "code",
   "execution_count": null,
   "id": "1e072c68",
   "metadata": {},
   "outputs": [],
   "source": [
    "sc.pp.neighbors(Embryo2, n_neighbors=20, n_pcs=30)"
   ]
  },
  {
   "cell_type": "code",
   "execution_count": null,
   "id": "57ade4df",
   "metadata": {},
   "outputs": [],
   "source": [
    "sc.tl.paga(Embryo2)\n",
    "sc.pl.paga(Embryo2, plot=False)  # remove `plot=False` if you want to see the coarse-grained graph\n",
    "sc.tl.umap(Embryo2, init_pos='paga')"
   ]
  },
  {
   "cell_type": "code",
   "execution_count": null,
   "id": "af0128f4",
   "metadata": {},
   "outputs": [],
   "source": [
    "sc.tl.umap(Embryo2)"
   ]
  },
  {
   "cell_type": "markdown",
   "id": "f462875d",
   "metadata": {},
   "source": [
    "Umap gene plots"
   ]
  },
  {
   "cell_type": "code",
   "execution_count": null,
   "id": "11fa6e7f",
   "metadata": {},
   "outputs": [],
   "source": [
    "sc.pl.umap(adata, color=['CST3', 'NKG7', 'PPBP'])"
   ]
  },
  {
   "cell_type": "markdown",
   "id": "e4e010ed",
   "metadata": {},
   "source": [
    "# 7 -Clustering the neighborhood graph"
   ]
  },
  {
   "cell_type": "code",
   "execution_count": null,
   "id": "39edaf16",
   "metadata": {},
   "outputs": [],
   "source": [
    "sc.tl.leiden(Embryo2)"
   ]
  },
  {
   "cell_type": "code",
   "execution_count": null,
   "id": "6d294d2f",
   "metadata": {},
   "outputs": [],
   "source": [
    "sc.pl.umap(Embryo2, color=['leiden'])"
   ]
  },
  {
   "cell_type": "code",
   "execution_count": null,
   "id": "5e17fe59",
   "metadata": {},
   "outputs": [],
   "source": []
  },
  {
   "cell_type": "code",
   "execution_count": null,
   "id": "c45957c1",
   "metadata": {
    "scrolled": false
   },
   "outputs": [],
   "source": [
    "# Plotting all top 3 genes vs  clustering\n",
    "for i in range(17):\n",
    "    sc.pl.umap(Embryo2, color=['leiden', genelst[i][0], genelst[i][1],genelst[i][2]])\n",
    "    print(f\"this is top 2 genes for cluster {i}\")"
   ]
  },
  {
   "cell_type": "markdown",
   "id": "1d980e6b",
   "metadata": {},
   "source": [
    "## Finding marker genes"
   ]
  },
  {
   "cell_type": "code",
   "execution_count": null,
   "id": "a6b954fa",
   "metadata": {},
   "outputs": [],
   "source": [
    "sc.tl.rank_genes_groups(Embryo2, 'leiden', method='t-test')\n",
    "sc.pl.rank_genes_groups(Embryo2, n_genes=30, sharey=False)\n",
    "Embryo2.uns[\"rank_genes_groups\"][\"names\"]\n",
    "genelst=[]\n",
    "for line in range(20):\n",
    "    genelst.append(adata1.uns[\"rank_genes_groups\"][\"names\"][line])\n",
    "    \n",
    "genelst[0:5]"
   ]
  },
  {
   "cell_type": "code",
   "execution_count": null,
   "id": "961bf8f2",
   "metadata": {},
   "outputs": [],
   "source": [
    "## csv from atlas , try do the gene look up here"
   ]
  },
  {
   "cell_type": "code",
   "execution_count": null,
   "id": "024e18af",
   "metadata": {},
   "outputs": [],
   "source": [
    "atlasdf=pd.read_csv('./Downloads/E10.5DayEmbryo_markers.csv', )"
   ]
  },
  {
   "cell_type": "code",
   "execution_count": null,
   "id": "0f4db2d6",
   "metadata": {},
   "outputs": [],
   "source": [
    "atlasdf=atlasdf.loc[:,[\"gene\",'alias','p_val',\"avg_diff\"]]"
   ]
  }
 ],
 "metadata": {
  "kernelspec": {
   "display_name": "Python 3 (ipykernel)",
   "language": "python",
   "name": "python3"
  },
  "language_info": {
   "codemirror_mode": {
    "name": "ipython",
    "version": 3
   },
   "file_extension": ".py",
   "mimetype": "text/x-python",
   "name": "python",
   "nbconvert_exporter": "python",
   "pygments_lexer": "ipython3",
   "version": "3.9.15"
  }
 },
 "nbformat": 4,
 "nbformat_minor": 5
}
